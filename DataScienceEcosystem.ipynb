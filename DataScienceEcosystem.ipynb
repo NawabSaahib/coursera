{
 "cells": [
  {
   "cell_type": "markdown",
   "id": "410e2167",
   "metadata": {},
   "source": [
    "# Data Science Tools and Ecosystem"
   ]
  },
  {
   "cell_type": "markdown",
   "id": "7a76738d",
   "metadata": {},
   "source": [
    "In this notebook, Data Tools and Ecosystem are summarized."
   ]
  },
  {
   "cell_type": "markdown",
   "id": "b8889ac6",
   "metadata": {},
   "source": [
    "#Exercise 4- \n",
    "Some of the popular languages that Data Scientists use are:\n",
    "\n",
    "1.Python\n",
    "\n",
    "2.SQL\n",
    "\n",
    "3.R\n"
   ]
  },
  {
   "cell_type": "markdown",
   "id": "74ecaf83",
   "metadata": {},
   "source": [
    "#Exercise 5 - Create a markdown cell to list data science libraries\n",
    "\n",
    "\n",
    "Some of the commonly used libraries used by Data Scientists include:\n",
    "\n",
    "1. Pandas\n",
    "\n",
    "2. Numpy\n",
    "\n",
    "3. SKlearn\n"
   ]
  },
  {
   "cell_type": "markdown",
   "id": "29d0fb1b",
   "metadata": {},
   "source": [
    "#Exercise 6 - Create a markdown cell with a table of Data Science tools\n",
    "\n",
    "\n"
   ]
  },
  {
   "cell_type": "code",
   "execution_count": 3,
   "id": "d1536e3a",
   "metadata": {},
   "outputs": [
    {
     "data": {
      "text/html": [
       "<div>\n",
       "<style scoped>\n",
       "    .dataframe tbody tr th:only-of-type {\n",
       "        vertical-align: middle;\n",
       "    }\n",
       "\n",
       "    .dataframe tbody tr th {\n",
       "        vertical-align: top;\n",
       "    }\n",
       "\n",
       "    .dataframe thead th {\n",
       "        text-align: right;\n",
       "    }\n",
       "</style>\n",
       "<table border=\"1\" class=\"dataframe\">\n",
       "  <thead>\n",
       "    <tr style=\"text-align: right;\">\n",
       "      <th></th>\n",
       "      <th>Data Science Tools</th>\n",
       "    </tr>\n",
       "  </thead>\n",
       "  <tbody>\n",
       "    <tr>\n",
       "      <th>0</th>\n",
       "      <td>Jupyter Notebook</td>\n",
       "    </tr>\n",
       "    <tr>\n",
       "      <th>1</th>\n",
       "      <td>RStudio</td>\n",
       "    </tr>\n",
       "    <tr>\n",
       "      <th>2</th>\n",
       "      <td>VS Code with Python</td>\n",
       "    </tr>\n",
       "  </tbody>\n",
       "</table>\n",
       "</div>"
      ],
      "text/plain": [
       "    Data Science Tools\n",
       "0     Jupyter Notebook\n",
       "1              RStudio\n",
       "2  VS Code with Python"
      ]
     },
     "execution_count": 3,
     "metadata": {},
     "output_type": "execute_result"
    }
   ],
   "source": [
    "import pandas as pd\n",
    "\n",
    "#Create a DataFrame\n",
    "data = {'Data Science Tools': ['Jupyter Notebook', 'RStudio', 'VS Code with Python']}\n",
    "df = pd.DataFrame(data)\n",
    "\n",
    "#Display the DataFrame\n",
    "df.head9\n"
   ]
  },
  {
   "cell_type": "markdown",
   "id": "2c993f09",
   "metadata": {},
   "source": [
    "#Exercise 7 - Create a markdown cell introducing arithmetic expression examples\n",
    "\n",
    "Add a line in this cell with H3 style heading with text like:\n",
    "\n",
    "\n"
   ]
  },
  {
   "cell_type": "markdown",
   "id": "9926a581",
   "metadata": {},
   "source": [
    "### Below are a few examples of evaluating arithmetic expressions in Python.\n"
   ]
  },
  {
   "cell_type": "markdown",
   "id": "e8c1e049",
   "metadata": {},
   "source": [
    "#Exercise 8 - Create a code cell to multiply and add numbers\n",
    "\n",
    " This a simple arithmetic expression to mutiply then add integers\n"
   ]
  },
  {
   "cell_type": "code",
   "execution_count": 7,
   "id": "11319790",
   "metadata": {},
   "outputs": [
    {
     "name": "stdout",
     "output_type": "stream",
     "text": [
      "17\n"
     ]
    }
   ],
   "source": [
    "a=(3*4)+5\n",
    "print(a)"
   ]
  },
  {
   "cell_type": "markdown",
   "id": "062c1e12",
   "metadata": {},
   "source": [
    "#Exercise 9 - Create a code cell to convert minutes to hours\n",
    "\n",
    " This will convert 200 minutes to hours by diving by 60\n"
   ]
  },
  {
   "cell_type": "code",
   "execution_count": 9,
   "id": "c6db4fc3",
   "metadata": {},
   "outputs": [
    {
     "name": "stdout",
     "output_type": "stream",
     "text": [
      "3.3333333333333335  Hours in 200 Minutes\n"
     ]
    }
   ],
   "source": [
    "hr=200/60\n",
    "print(hr,' Hours in 200 Minutes')"
   ]
  },
  {
   "cell_type": "markdown",
   "id": "07236da6",
   "metadata": {},
   "source": [
    "#Exercise 10 - Insert a markdown cell to list Objectives\n",
    "\n",
    "List popular languages for Data Science"
   ]
  },
  {
   "cell_type": "code",
   "execution_count": 10,
   "id": "a73c7ed7",
   "metadata": {},
   "outputs": [
    {
     "name": "stdout",
     "output_type": "stream",
     "text": [
      "- Python\n",
      "- R\n",
      "- Julia\n",
      "- SQL (for data manipulation and retrieval)\n",
      "- Scala\n"
     ]
    }
   ],
   "source": [
    "# Define a list of data science languages\n",
    "data_science_languages = [\n",
    "    \"Python\",\n",
    "    \"R\",\n",
    "    \"Julia\",\n",
    "    \"SQL (for data manipulation and retrieval)\",\n",
    "    \"Scala\"\n",
    "]\n",
    "\n",
    "# Iterate through the list and print each item with a bullet point\n",
    "for language in data_science_languages:\n",
    "    print(f\"- {language}\")\n"
   ]
  },
  {
   "cell_type": "markdown",
   "id": "36bc1400",
   "metadata": {},
   "source": [
    "#Exercise 11 - Create a markdown cell to indicate the Author's name\n"
   ]
  },
  {
   "cell_type": "markdown",
   "id": "543f582b",
   "metadata": {},
   "source": [
    "## Author"
   ]
  },
  {
   "cell_type": "markdown",
   "id": "9ec9ec70",
   "metadata": {},
   "source": [
    "Jibran Hasnain Jalali"
   ]
  },
  {
   "cell_type": "code",
   "execution_count": null,
   "id": "789f05c7",
   "metadata": {},
   "outputs": [],
   "source": []
  }
 ],
 "metadata": {
  "kernelspec": {
   "display_name": "Python 3 (ipykernel)",
   "language": "python",
   "name": "python3"
  },
  "language_info": {
   "codemirror_mode": {
    "name": "ipython",
    "version": 3
   },
   "file_extension": ".py",
   "mimetype": "text/x-python",
   "name": "python",
   "nbconvert_exporter": "python",
   "pygments_lexer": "ipython3",
   "version": "3.11.3"
  }
 },
 "nbformat": 4,
 "nbformat_minor": 5
}
